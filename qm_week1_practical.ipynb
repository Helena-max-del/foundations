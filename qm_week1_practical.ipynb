{
 "cells": [
  {
   "cell_type": "code",
   "execution_count": 1,
   "metadata": {},
   "outputs": [
    {
     "ename": "FileNotFoundError",
     "evalue": "File b'L1_data/UK_census_population.csv' does not exist",
     "output_type": "error",
     "traceback": [
      "\u001b[1;31m---------------------------------------------------------------------------\u001b[0m",
      "\u001b[1;31mFileNotFoundError\u001b[0m                         Traceback (most recent call last)",
      "\u001b[1;32m<ipython-input-1-d74e7ccd7edc>\u001b[0m in \u001b[0;36m<module>\u001b[1;34m()\u001b[0m\n\u001b[0;32m      6\u001b[0m     \u001b[0mskiprows\u001b[0m\u001b[1;33m=\u001b[0m\u001b[1;36m5\u001b[0m\u001b[1;33m,\u001b[0m        \u001b[1;31m# Skip first 5 rows. Wnhy?\u001b[0m\u001b[1;33m\u001b[0m\u001b[0m\n\u001b[0;32m      7\u001b[0m     \u001b[0mthousands\u001b[0m\u001b[1;33m=\u001b[0m\u001b[1;34m','\u001b[0m\u001b[1;33m,\u001b[0m     \u001b[1;31m# Interpret commas as thousands separators\u001b[0m\u001b[1;33m\u001b[0m\u001b[0m\n\u001b[1;32m----> 8\u001b[1;33m     \u001b[0mheader\u001b[0m\u001b[1;33m=\u001b[0m\u001b[1;36m0\u001b[0m           \u001b[1;31m# After skipping, the first row becomes the header\u001b[0m\u001b[1;33m\u001b[0m\u001b[0m\n\u001b[0m\u001b[0;32m      9\u001b[0m )\n\u001b[0;32m     10\u001b[0m \u001b[1;33m\u001b[0m\u001b[0m\n",
      "\u001b[1;32mD:\\Anaconda\\lib\\site-packages\\pandas\\io\\parsers.py\u001b[0m in \u001b[0;36mparser_f\u001b[1;34m(filepath_or_buffer, sep, delimiter, header, names, index_col, usecols, squeeze, prefix, mangle_dupe_cols, dtype, engine, converters, true_values, false_values, skipinitialspace, skiprows, nrows, na_values, keep_default_na, na_filter, verbose, skip_blank_lines, parse_dates, infer_datetime_format, keep_date_col, date_parser, dayfirst, iterator, chunksize, compression, thousands, decimal, lineterminator, quotechar, quoting, escapechar, comment, encoding, dialect, tupleize_cols, error_bad_lines, warn_bad_lines, skipfooter, doublequote, delim_whitespace, low_memory, memory_map, float_precision)\u001b[0m\n\u001b[0;32m    676\u001b[0m                     skip_blank_lines=skip_blank_lines)\n\u001b[0;32m    677\u001b[0m \u001b[1;33m\u001b[0m\u001b[0m\n\u001b[1;32m--> 678\u001b[1;33m         \u001b[1;32mreturn\u001b[0m \u001b[0m_read\u001b[0m\u001b[1;33m(\u001b[0m\u001b[0mfilepath_or_buffer\u001b[0m\u001b[1;33m,\u001b[0m \u001b[0mkwds\u001b[0m\u001b[1;33m)\u001b[0m\u001b[1;33m\u001b[0m\u001b[0m\n\u001b[0m\u001b[0;32m    679\u001b[0m \u001b[1;33m\u001b[0m\u001b[0m\n\u001b[0;32m    680\u001b[0m     \u001b[0mparser_f\u001b[0m\u001b[1;33m.\u001b[0m\u001b[0m__name__\u001b[0m \u001b[1;33m=\u001b[0m \u001b[0mname\u001b[0m\u001b[1;33m\u001b[0m\u001b[0m\n",
      "\u001b[1;32mD:\\Anaconda\\lib\\site-packages\\pandas\\io\\parsers.py\u001b[0m in \u001b[0;36m_read\u001b[1;34m(filepath_or_buffer, kwds)\u001b[0m\n\u001b[0;32m    438\u001b[0m \u001b[1;33m\u001b[0m\u001b[0m\n\u001b[0;32m    439\u001b[0m     \u001b[1;31m# Create the parser.\u001b[0m\u001b[1;33m\u001b[0m\u001b[1;33m\u001b[0m\u001b[0m\n\u001b[1;32m--> 440\u001b[1;33m     \u001b[0mparser\u001b[0m \u001b[1;33m=\u001b[0m \u001b[0mTextFileReader\u001b[0m\u001b[1;33m(\u001b[0m\u001b[0mfilepath_or_buffer\u001b[0m\u001b[1;33m,\u001b[0m \u001b[1;33m**\u001b[0m\u001b[0mkwds\u001b[0m\u001b[1;33m)\u001b[0m\u001b[1;33m\u001b[0m\u001b[0m\n\u001b[0m\u001b[0;32m    441\u001b[0m \u001b[1;33m\u001b[0m\u001b[0m\n\u001b[0;32m    442\u001b[0m     \u001b[1;32mif\u001b[0m \u001b[0mchunksize\u001b[0m \u001b[1;32mor\u001b[0m \u001b[0miterator\u001b[0m\u001b[1;33m:\u001b[0m\u001b[1;33m\u001b[0m\u001b[0m\n",
      "\u001b[1;32mD:\\Anaconda\\lib\\site-packages\\pandas\\io\\parsers.py\u001b[0m in \u001b[0;36m__init__\u001b[1;34m(self, f, engine, **kwds)\u001b[0m\n\u001b[0;32m    785\u001b[0m             \u001b[0mself\u001b[0m\u001b[1;33m.\u001b[0m\u001b[0moptions\u001b[0m\u001b[1;33m[\u001b[0m\u001b[1;34m'has_index_names'\u001b[0m\u001b[1;33m]\u001b[0m \u001b[1;33m=\u001b[0m \u001b[0mkwds\u001b[0m\u001b[1;33m[\u001b[0m\u001b[1;34m'has_index_names'\u001b[0m\u001b[1;33m]\u001b[0m\u001b[1;33m\u001b[0m\u001b[0m\n\u001b[0;32m    786\u001b[0m \u001b[1;33m\u001b[0m\u001b[0m\n\u001b[1;32m--> 787\u001b[1;33m         \u001b[0mself\u001b[0m\u001b[1;33m.\u001b[0m\u001b[0m_make_engine\u001b[0m\u001b[1;33m(\u001b[0m\u001b[0mself\u001b[0m\u001b[1;33m.\u001b[0m\u001b[0mengine\u001b[0m\u001b[1;33m)\u001b[0m\u001b[1;33m\u001b[0m\u001b[0m\n\u001b[0m\u001b[0;32m    788\u001b[0m \u001b[1;33m\u001b[0m\u001b[0m\n\u001b[0;32m    789\u001b[0m     \u001b[1;32mdef\u001b[0m \u001b[0mclose\u001b[0m\u001b[1;33m(\u001b[0m\u001b[0mself\u001b[0m\u001b[1;33m)\u001b[0m\u001b[1;33m:\u001b[0m\u001b[1;33m\u001b[0m\u001b[0m\n",
      "\u001b[1;32mD:\\Anaconda\\lib\\site-packages\\pandas\\io\\parsers.py\u001b[0m in \u001b[0;36m_make_engine\u001b[1;34m(self, engine)\u001b[0m\n\u001b[0;32m   1012\u001b[0m     \u001b[1;32mdef\u001b[0m \u001b[0m_make_engine\u001b[0m\u001b[1;33m(\u001b[0m\u001b[0mself\u001b[0m\u001b[1;33m,\u001b[0m \u001b[0mengine\u001b[0m\u001b[1;33m=\u001b[0m\u001b[1;34m'c'\u001b[0m\u001b[1;33m)\u001b[0m\u001b[1;33m:\u001b[0m\u001b[1;33m\u001b[0m\u001b[0m\n\u001b[0;32m   1013\u001b[0m         \u001b[1;32mif\u001b[0m \u001b[0mengine\u001b[0m \u001b[1;33m==\u001b[0m \u001b[1;34m'c'\u001b[0m\u001b[1;33m:\u001b[0m\u001b[1;33m\u001b[0m\u001b[0m\n\u001b[1;32m-> 1014\u001b[1;33m             \u001b[0mself\u001b[0m\u001b[1;33m.\u001b[0m\u001b[0m_engine\u001b[0m \u001b[1;33m=\u001b[0m \u001b[0mCParserWrapper\u001b[0m\u001b[1;33m(\u001b[0m\u001b[0mself\u001b[0m\u001b[1;33m.\u001b[0m\u001b[0mf\u001b[0m\u001b[1;33m,\u001b[0m \u001b[1;33m**\u001b[0m\u001b[0mself\u001b[0m\u001b[1;33m.\u001b[0m\u001b[0moptions\u001b[0m\u001b[1;33m)\u001b[0m\u001b[1;33m\u001b[0m\u001b[0m\n\u001b[0m\u001b[0;32m   1015\u001b[0m         \u001b[1;32melse\u001b[0m\u001b[1;33m:\u001b[0m\u001b[1;33m\u001b[0m\u001b[0m\n\u001b[0;32m   1016\u001b[0m             \u001b[1;32mif\u001b[0m \u001b[0mengine\u001b[0m \u001b[1;33m==\u001b[0m \u001b[1;34m'python'\u001b[0m\u001b[1;33m:\u001b[0m\u001b[1;33m\u001b[0m\u001b[0m\n",
      "\u001b[1;32mD:\\Anaconda\\lib\\site-packages\\pandas\\io\\parsers.py\u001b[0m in \u001b[0;36m__init__\u001b[1;34m(self, src, **kwds)\u001b[0m\n\u001b[0;32m   1706\u001b[0m         \u001b[0mkwds\u001b[0m\u001b[1;33m[\u001b[0m\u001b[1;34m'usecols'\u001b[0m\u001b[1;33m]\u001b[0m \u001b[1;33m=\u001b[0m \u001b[0mself\u001b[0m\u001b[1;33m.\u001b[0m\u001b[0musecols\u001b[0m\u001b[1;33m\u001b[0m\u001b[0m\n\u001b[0;32m   1707\u001b[0m \u001b[1;33m\u001b[0m\u001b[0m\n\u001b[1;32m-> 1708\u001b[1;33m         \u001b[0mself\u001b[0m\u001b[1;33m.\u001b[0m\u001b[0m_reader\u001b[0m \u001b[1;33m=\u001b[0m \u001b[0mparsers\u001b[0m\u001b[1;33m.\u001b[0m\u001b[0mTextReader\u001b[0m\u001b[1;33m(\u001b[0m\u001b[0msrc\u001b[0m\u001b[1;33m,\u001b[0m \u001b[1;33m**\u001b[0m\u001b[0mkwds\u001b[0m\u001b[1;33m)\u001b[0m\u001b[1;33m\u001b[0m\u001b[0m\n\u001b[0m\u001b[0;32m   1709\u001b[0m \u001b[1;33m\u001b[0m\u001b[0m\n\u001b[0;32m   1710\u001b[0m         \u001b[0mpassed_names\u001b[0m \u001b[1;33m=\u001b[0m \u001b[0mself\u001b[0m\u001b[1;33m.\u001b[0m\u001b[0mnames\u001b[0m \u001b[1;32mis\u001b[0m \u001b[1;32mNone\u001b[0m\u001b[1;33m\u001b[0m\u001b[0m\n",
      "\u001b[1;32mpandas\\_libs\\parsers.pyx\u001b[0m in \u001b[0;36mpandas._libs.parsers.TextReader.__cinit__\u001b[1;34m()\u001b[0m\n",
      "\u001b[1;32mpandas\\_libs\\parsers.pyx\u001b[0m in \u001b[0;36mpandas._libs.parsers.TextReader._setup_parser_source\u001b[1;34m()\u001b[0m\n",
      "\u001b[1;31mFileNotFoundError\u001b[0m: File b'L1_data/UK_census_population.csv' does not exist"
     ]
    }
   ],
   "source": [
    "import pandas as pd\n",
    "\n",
    "# Read CSV file, skipping first 5 rows, using row 6 as header, and handling comma as thousands separator\n",
    "df_pop = pd.read_csv(\n",
    "    'L1_data/UK_census_population.csv',\n",
    "    skiprows=5,        # Skip first 5 rows. Wnhy?\n",
    "    thousands=',',     # Interpret commas as thousands separators\n",
    "    header=0           # After skipping, the first row becomes the header\n",
    ")\n",
    "\n",
    "print(df_pop.head())\n"
   ]
  },
  {
   "cell_type": "code",
   "execution_count": 3,
   "metadata": {},
   "outputs": [
    {
     "name": "stdout",
     "output_type": "stream",
     "text": [
      "   Area code          Area name Area type  Population 2011  Population 2021  \\\n",
      "0  K04000001  England and Wales  National       56075912.0       59597542.0   \n",
      "1  E92000001            England   Country       53012456.0       56490048.0   \n",
      "2  W92000004              Wales   Country        3063456.0        3107494.0   \n",
      "3  E12000001         North East    Region        2596886.0        2647013.0   \n",
      "4  E12000002         North West    Region        7052177.0        7417397.0   \n",
      "\n",
      "   Percentage change  \n",
      "0                6.3  \n",
      "1                6.6  \n",
      "2                1.4  \n",
      "3                1.9  \n",
      "4                5.2  \n"
     ]
    }
   ],
   "source": [
    "import pandas as pd\n",
    "\n",
    "# Read CSV file, skipping first 5 rows, using row 6 as header, and handling comma as thousands separator\n",
    "df_pop = pd.read_csv(\n",
    "    'mapdatadownload.csv',\n",
    "    skiprows=5,        # Skip first 5 rows. Wnhy?\n",
    "    thousands=',',     # Interpret commas as thousands separators\n",
    "    header=0           # After skipping, the first row becomes the header\n",
    ")\n",
    "\n",
    "print(df_pop.head())"
   ]
  },
  {
   "cell_type": "code",
   "execution_count": 4,
   "metadata": {},
   "outputs": [
    {
     "data": {
      "text/plain": [
       "['Area code',\n",
       " 'Area name',\n",
       " 'Area type',\n",
       " 'Population 2011',\n",
       " 'Population 2021',\n",
       " 'Percentage change']"
      ]
     },
     "execution_count": 4,
     "metadata": {},
     "output_type": "execute_result"
    }
   ],
   "source": [
    "list(df_pop.columns)"
   ]
  },
  {
   "cell_type": "code",
   "execution_count": 5,
   "metadata": {},
   "outputs": [
    {
     "name": "stdout",
     "output_type": "stream",
     "text": [
      "['Area_code', 'Area_name', 'Area_type', 'Population_2011', 'Population_2021', 'Percentage_change']\n"
     ]
    }
   ],
   "source": [
    "df_pop.columns = df_pop.columns.str.replace(r'\\s+', '_', regex=True)\n",
    "print(list(df_pop.columns)) # check again"
   ]
  },
  {
   "cell_type": "code",
   "execution_count": 6,
   "metadata": {},
   "outputs": [
    {
     "name": "stdout",
     "output_type": "stream",
     "text": [
      "Rows: 369, Columns: 6\n"
     ]
    }
   ],
   "source": [
    "rows, cols = df_pop.shape\n",
    "print(f\"Rows: {rows}, Columns: {cols}\")"
   ]
  },
  {
   "cell_type": "code",
   "execution_count": 7,
   "metadata": {},
   "outputs": [
    {
     "name": "stdout",
     "output_type": "stream",
     "text": [
      "Local Authority    355\n",
      "Region               9\n",
      "Country              2\n",
      "National             1\n",
      "Name: Area_type, dtype: int64\n"
     ]
    }
   ],
   "source": [
    "print(df_pop.Area_type.value_counts())"
   ]
  },
  {
   "cell_type": "code",
   "execution_count": 8,
   "metadata": {},
   "outputs": [],
   "source": [
    "df_pop_la = df_pop[df_pop['Area_type'] == 'Local Authority']"
   ]
  },
  {
   "cell_type": "code",
   "execution_count": 9,
   "metadata": {},
   "outputs": [
    {
     "name": "stdout",
     "output_type": "stream",
     "text": [
      "<class 'pandas.core.frame.DataFrame'>\n",
      "Int64Index: 355 entries, 12 to 366\n",
      "Data columns (total 6 columns):\n",
      "Area_code            355 non-null object\n",
      "Area_name            355 non-null object\n",
      "Area_type            355 non-null object\n",
      "Population_2011      355 non-null float64\n",
      "Population_2021      355 non-null float64\n",
      "Percentage_change    355 non-null float64\n",
      "dtypes: float64(3), object(3)\n",
      "memory usage: 19.4+ KB\n",
      "None\n",
      "       Population_2011  Population_2021  Percentage_change\n",
      "count     3.550000e+02     3.550000e+02         355.000000\n",
      "mean      2.132867e+05     2.268876e+05           6.070423\n",
      "std       2.099628e+05     2.245442e+05           4.608338\n",
      "min       2.203000e+03     2.054000e+03          -9.600000\n",
      "25%       1.000530e+05     1.055705e+05           2.950000\n",
      "50%       1.382650e+05     1.477760e+05           5.800000\n",
      "75%       2.487865e+05     2.628895e+05           9.000000\n",
      "max       1.463740e+06     1.576069e+06          22.100000\n"
     ]
    }
   ],
   "source": [
    "print(df_pop_la.info())\n",
    "print(df_pop_la.describe())"
   ]
  },
  {
   "cell_type": "code",
   "execution_count": 10,
   "metadata": {},
   "outputs": [
    {
     "name": "stdout",
     "output_type": "stream",
     "text": [
      "Max population:  1576069.0\n"
     ]
    }
   ],
   "source": [
    "print(\"Max population: \", df_pop_la['Population_2021'].max(skipna=True))"
   ]
  },
  {
   "cell_type": "code",
   "execution_count": 11,
   "metadata": {},
   "outputs": [
    {
     "name": "stdout",
     "output_type": "stream",
     "text": [
      "Kent have the maximum population of 1576069.0\n"
     ]
    }
   ],
   "source": [
    "print(\"{} have the maximum population of {}\".format(\n",
    "    \", \".join(df_pop_la.loc[df_pop_la['Population_2021'] == df_pop_la['Population_2021'].max(skipna=True), 'Area_name']), \n",
    "    df_pop_la['Population_2021'].max(skipna=True))\n",
    "    )"
   ]
  },
  {
   "cell_type": "code",
   "execution_count": 12,
   "metadata": {},
   "outputs": [
    {
     "name": "stdout",
     "output_type": "stream",
     "text": [
      "Isles of Scilly have the minimum population of 2054.0\n"
     ]
    }
   ],
   "source": [
    "print(\"{} have the minimum population of {}\".format(\n",
    "    \", \".join(df_pop_la.loc[df_pop_la['Population_2021'] == df_pop_la['Population_2021'].min(skipna=True), 'Area_name']), \n",
    "    df_pop_la['Population_2021'].min(skipna=True))\n",
    "    )"
   ]
  },
  {
   "cell_type": "code",
   "execution_count": 13,
   "metadata": {},
   "outputs": [
    {
     "name": "stdout",
     "output_type": "stream",
     "text": [
      "The standard deviation of Population_2021 is: 224544.20636612535\n",
      "Using scientific notation: 2.245e+05\n",
      "Using thousands separator notation: 224,544.21\n"
     ]
    }
   ],
   "source": [
    "std_dev = df_pop_la['Population_2021'].std()\n",
    "# plain notation\n",
    "print(\"The standard deviation of Population_2021 is: {}\".format(std_dev)) \n",
    "# scientific notation\n",
    "print(\"Using scientific notation: {:.3e}\".format(std_dev)) \n",
    "# thousands separator notation + 2 decimal places\n",
    "print(\"Using thousands separator notation: {:,.2f}\".format(std_dev))"
   ]
  },
  {
   "cell_type": "code",
   "execution_count": 14,
   "metadata": {},
   "outputs": [
    {
     "name": "stdout",
     "output_type": "stream",
     "text": [
      "Lower bound: -130408.0\n",
      "Upper bound: 498868.0\n",
      "How many outliers? 33\n",
      "Outliers:\n",
      "      Area_code        Area_name        Area_type  Population_2011  \\\n",
      "56   E06000047    County Durham  Local Authority         513242.0   \n",
      "60   E06000052         Cornwall  Local Authority         532273.0   \n",
      "62   E06000054        Wiltshire  Local Authority         470981.0   \n",
      "68   E06000060  Buckinghamshire  Local Authority         505283.0   \n",
      "254  E08000003       Manchester  Local Authority         503127.0   \n",
      "270  E08000019        Sheffield  Local Authority         552698.0   \n",
      "275  E08000025       Birmingham  Local Authority        1073045.0   \n",
      "282  E08000032         Bradford  Local Authority         522452.0   \n",
      "285  E08000035            Leeds  Local Authority         751485.0   \n",
      "321  E10000003   Cambridgeshire  Local Authority         621210.0   \n",
      "322  E10000006          Cumbria  Local Authority         499858.0   \n",
      "323  E10000007       Derbyshire  Local Authority         769686.0   \n",
      "324  E10000008            Devon  Local Authority         746399.0   \n",
      "325  E10000011      East Sussex  Local Authority         526671.0   \n",
      "326  E10000012            Essex  Local Authority        1393587.0   \n",
      "327  E10000013  Gloucestershire  Local Authority         596984.0   \n",
      "328  E10000014        Hampshire  Local Authority        1317788.0   \n",
      "329  E10000015    Hertfordshire  Local Authority        1116062.0   \n",
      "330  E10000016             Kent  Local Authority        1463740.0   \n",
      "331  E10000017       Lancashire  Local Authority        1171339.0   \n",
      "332  E10000018   Leicestershire  Local Authority         650489.0   \n",
      "333  E10000019     Lincolnshire  Local Authority         713653.0   \n",
      "334  E10000020          Norfolk  Local Authority         857888.0   \n",
      "335  E10000023  North Yorkshire  Local Authority         598376.0   \n",
      "336  E10000024  Nottinghamshire  Local Authority         785802.0   \n",
      "337  E10000025      Oxfordshire  Local Authority         653798.0   \n",
      "338  E10000027         Somerset  Local Authority         529972.0   \n",
      "339  E10000028    Staffordshire  Local Authority         848489.0   \n",
      "340  E10000029          Suffolk  Local Authority         728163.0   \n",
      "341  E10000030           Surrey  Local Authority        1132390.0   \n",
      "342  E10000031     Warwickshire  Local Authority         545474.0   \n",
      "343  E10000032      West Sussex  Local Authority         806892.0   \n",
      "344  E10000034   Worcestershire  Local Authority         566169.0   \n",
      "\n",
      "     Population_2021  Percentage_change  \n",
      "56          522068.0                1.7  \n",
      "60          570305.0                7.1  \n",
      "62          510330.0                8.4  \n",
      "68          553078.0                9.5  \n",
      "254         551938.0                9.7  \n",
      "270         556521.0                0.7  \n",
      "275        1144919.0                6.7  \n",
      "282         546412.0                4.6  \n",
      "285         811953.0                8.0  \n",
      "321         678849.0                9.3  \n",
      "322         499846.0                0.0  \n",
      "323         794636.0                3.2  \n",
      "324         811640.0                8.7  \n",
      "325         545847.0                3.6  \n",
      "326        1503521.0                7.9  \n",
      "327         645076.0                8.1  \n",
      "328        1400899.0                6.3  \n",
      "329        1198798.0                7.4  \n",
      "330        1576069.0                7.7  \n",
      "331        1235354.0                5.5  \n",
      "332         712366.0                9.5  \n",
      "333         768364.0                7.7  \n",
      "334         916120.0                6.8  \n",
      "335         615491.0                2.9  \n",
      "336         824822.0                5.0  \n",
      "337         725291.0               10.9  \n",
      "338         571547.0                7.8  \n",
      "339         876104.0                3.3  \n",
      "340         760688.0                4.5  \n",
      "341        1203108.0                6.2  \n",
      "342         596773.0                9.4  \n",
      "343         882676.0                9.4  \n",
      "344         603676.0                6.6  \n"
     ]
    }
   ],
   "source": [
    "# Calculate Q1, Q3, and IQR\n",
    "Q1 = df_pop_la['Population_2021'].quantile(0.25)\n",
    "Q3 = df_pop_la['Population_2021'].quantile(0.75)\n",
    "IQR = Q3 - Q1\n",
    "\n",
    "# Tukey's fences\n",
    "lower_bound = Q1 - 1.5 * IQR\n",
    "upper_bound = Q3 + 1.5 * IQR\n",
    "\n",
    "# Detect outliers\n",
    "outliers = df_pop_la[\n",
    "    (df_pop_la['Population_2021'] < lower_bound) |\n",
    "    (df_pop_la['Population_2021'] > upper_bound)\n",
    "]\n",
    "\n",
    "print(\"Lower bound:\", lower_bound)\n",
    "print(\"Upper bound:\", upper_bound)\n",
    "print(\"How many outliers?\", outliers.shape[0])\n",
    "print(\"Outliers:\\n\", outliers)"
   ]
  },
  {
   "cell_type": "code",
   "execution_count": 15,
   "metadata": {},
   "outputs": [
    {
     "data": {
      "text/plain": [
       "<Figure size 640x480 with 1 Axes>"
      ]
     },
     "metadata": {},
     "output_type": "display_data"
    }
   ],
   "source": [
    "import matplotlib.pyplot as plt\n",
    "\n",
    "# Create boxplot\n",
    "df_pop_la['Population_2021'].plot(kind='box', title='LA Population 2021 Boxplot')\n",
    "\n",
    "plt.ylabel('Population')\n",
    "plt.grid(axis='y', linestyle='--', alpha=0.6)\n",
    "plt.show()"
   ]
  },
  {
   "cell_type": "code",
   "execution_count": 16,
   "metadata": {},
   "outputs": [
    {
     "data": {
      "image/png": "[encoded data removed]",
      "text/plain": [
       "<Figure size 432x288 with 1 Axes>"
      ]
     },
     "metadata": {
      "needs_background": "light"
     },
     "output_type": "display_data"
    }
   ],
   "source": [
    "import matplotlib.pyplot as plt\n",
    "\n",
    "# Create boxplot\n",
    "df_pop_la['Population_2021'].plot(kind='box', title='LA Population 2021 Boxplot')\n",
    "\n",
    "plt.ylabel('Population')\n",
    "plt.grid(axis='y', linestyle='--', alpha=0.6)\n",
    "plt.show()"
   ]
  },
  {
   "cell_type": "code",
   "execution_count": 17,
   "metadata": {},
   "outputs": [
    {
     "name": "stdout",
     "output_type": "stream",
     "text": [
      "Kent have the largest population percentage change of 1576069.0%\n"
     ]
    }
   ],
   "source": [
    "print(\"{} have the largest population percentage change of {}%\".format(\n",
    "    \", \".join(df_pop_la.loc[df_pop_la['Population_2021'] == df_pop_la['Population_2021'].max(skipna=True), 'Area_name']), \n",
    "    df_pop_la['Population_2021'].max(skipna=True))\n",
    "    )"
   ]
  },
  {
   "cell_type": "code",
   "execution_count": 18,
   "metadata": {},
   "outputs": [
    {
     "name": "stdout",
     "output_type": "stream",
     "text": [
      "Tower Hamlets have the largest population percentage change of 22.1%\n"
     ]
    }
   ],
   "source": [
    "print(\"{} have the largest population percentage change of {}%\".format(\n",
    "    \", \".join(df_pop_la.loc[df_pop_la['Percentage_change'] == df_pop_la['Percentage_change'].max(skipna=True), 'Area_name']), \n",
    "    df_pop_la['Percentage_change'].max(skipna=True))\n",
    "    )"
   ]
  },
  {
   "cell_type": "code",
   "execution_count": 19,
   "metadata": {},
   "outputs": [
    {
     "data": {
      "image/png": "[encoded data removed]",
      "text/plain": [
       "<Figure size 432x288 with 1 Axes>"
      ]
     },
     "metadata": {
      "needs_background": "light"
     },
     "output_type": "display_data"
    }
   ],
   "source": [
    "import matplotlib.pyplot as plt\n",
    "\n",
    "# Create boxplot\n",
    "df_pop_la['Percentage_change'].plot(kind='box', title='LA Percentage_change Boxplot')\n",
    "\n",
    "plt.ylabel('Percentage_change')\n",
    "plt.grid(axis='y', linestyle='--', alpha=0.6)\n",
    "plt.show()"
   ]
  },
  {
   "cell_type": "code",
   "execution_count": null,
   "metadata": {},
   "outputs": [],
   "source": []
  }
 ],
 "metadata": {
  "kernelspec": {
   "display_name": "Python 3",
   "language": "python",
   "name": "python3"
  },
  "language_info": {
   "codemirror_mode": {
    "name": "ipython",
    "version": 3
   },
   "file_extension": ".py",
   "mimetype": "text/x-python",
   "name": "python",
   "nbconvert_exporter": "python",
   "pygments_lexer": "ipython3",
   "version": "3.7.0"
  }
 },
 "nbformat": 4,
 "nbformat_minor": 2
}
